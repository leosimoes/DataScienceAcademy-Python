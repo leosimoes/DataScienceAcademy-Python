{
 "cells": [
  {
   "cell_type": "markdown",
   "metadata": {},
   "source": [
    "# Lab 3 - Trabalhando com Expressões Regulares em Python com ChatGPT\n",
    "\n",
    "![Logo de capa](Lab3-Logo.png)\n",
    "\n",
    "Autor: Leonardo Simões"
   ]
  },
  {
   "cell_type": "markdown",
   "metadata": {},
   "source": [
    "---\n",
    "## Sumário\n",
    "- [1.Introdução](#introduction)\n",
    "- [2.Objetivos](#objectives)\n",
    "- [3.Desenvolvimento](#development)\n",
    "- [4.Conclusão](#conclusion)\n",
    "- [Referências](#references)"
   ]
  },
  {
   "cell_type": "markdown",
   "metadata": {},
   "source": [
    "---\n",
    "<a id='introduction'></a>\n",
    "## 1. Introdução\n",
    "\n",
    "Neste Lab você vai aprender como usar Expressões Regulares em Python ao mesmo tempo que pratica um pouco mais o uso do ChatGPT."
   ]
  },
  {
   "cell_type": "markdown",
   "metadata": {},
   "source": [
    "---\n",
    "<a id='objectives'></a>\n",
    "## 2. Objetivos\n",
    "\n",
    "Os objetivos deste Lab são:\n",
    "- Aprender e praticar regex em Python.\n",
    "- Utilizar o ChatGPT para auxílio.\n",
    "- Analisar a letra de uma música usando regex."
   ]
  },
  {
   "cell_type": "markdown",
   "metadata": {},
   "source": [
    "---\n",
    "<a id='development'></a>\n",
    "## 3. Desenvolvimento"
   ]
  },
  {
   "cell_type": "code",
   "execution_count": 1,
   "metadata": {},
   "outputs": [
    {
     "name": "stdout",
     "output_type": "stream",
     "text": [
      "Versão do Python:  3.11.2\n"
     ]
    }
   ],
   "source": [
    "# Verificação da versão do Python\n",
    "from platform import python_version\n",
    "print('Versão do Python: ', python_version())"
   ]
  },
  {
   "cell_type": "code",
   "execution_count": 2,
   "outputs": [],
   "source": [
    "# Importa a biblioteca de regex\n",
    "import re"
   ],
   "metadata": {
    "collapsed": false
   }
  },
  {
   "cell_type": "code",
   "execution_count": 3,
   "outputs": [
    {
     "name": "stdout",
     "output_type": "stream",
     "text": [
      "Biblioteca RE versão 2.2.1\n"
     ]
    }
   ],
   "source": [
    "# Exibe a versão da biblioteca de regex\n",
    "print('Biblioteca RE versão ' + re.__version__)"
   ],
   "metadata": {
    "collapsed": false
   }
  },
  {
   "cell_type": "code",
   "execution_count": 4,
   "outputs": [],
   "source": [
    "# Letra da música Algoritmo do Rosa de Saron\n",
    "LETRA_MUSICA = \"\"\"\n",
    "Há o finito\n",
    "Ele então caminhará sob o luar\n",
    "Se o ver, decore onde Ele está\n",
    "Porque ao vê-lo, indicará por onde deve ir\n",
    "Não espere a noite terminar\n",
    "É onde o sereno chora em seu lugar\n",
    "Não existe um jeito certo de fazer uma coisa errada\n",
    "Ou se acerta ou se erra\n",
    "E se pode ser melhor que é\n",
    "É evidente que ainda não é tão bom assim\n",
    "Há o infinito\n",
    "Há o céu e há o discurso\n",
    "De quem perdeu seu curso\n",
    "Agora está aí à deriva\n",
    "Setecentas e setenta e sete luzes não puderam iluminar\n",
    "A sombra que escondeu-se do Seu lar\n",
    "Não existe um jeito certo de fazer uma coisa errada\n",
    "Ou se acerta ou se erra\n",
    "E se pode ser melhor que é\n",
    "É evidente que ainda não é tão bom\n",
    "Há o erro e outra vez\n",
    "Outra chance, outro lugar\n",
    "E enquanto o sábio aponta o céu\n",
    "O idiota olha o dedo\n",
    "Mas estrela já não há\n",
    "Explodiu, não existe mais\n",
    "O algoritmo venceu\n",
    "Sinal, síntese, sintomatismo\n",
    "Meu amor, veja bem\n",
    "Diga amém\n",
    "Durma bem\n",
    "\"\"\""
   ],
   "metadata": {
    "collapsed": false
   }
  },
  {
   "cell_type": "code",
   "execution_count": 5,
   "outputs": [
    {
     "name": "stdout",
     "output_type": "stream",
     "text": [
      "\n",
      "Há o finito\n",
      "Ele então caminhará sob o luar\n",
      "Se o ver, decore onde Ele está\n",
      "Porque ao vê-lo, indicará por onde deve ir\n",
      "Não espere a noite terminar\n",
      "É onde o sereno chora em seu lugar\n",
      "Não existe um jeito certo de fazer uma coisa errada\n",
      "Ou se acerta ou se erra\n",
      "E se pode ser melhor que é\n",
      "É evidente que ainda não é tão bom assim\n",
      "Há o infinito\n",
      "Há o céu e há o discurso\n",
      "De quem perdeu seu curso\n",
      "Agora está aí à deriva\n",
      "Setecentas e setenta e sete luzes não puderam iluminar\n",
      "A sombra que escondeu-se do Seu lar\n",
      "Não existe um jeito certo de fazer uma coisa errada\n",
      "Ou se acerta ou se erra\n",
      "E se pode ser melhor que é\n",
      "É evidente que ainda não é tão bom\n",
      "Há o erro e outra vez\n",
      "Outra chance, outro lugar\n",
      "E enquanto o sábio aponta o céu\n",
      "O idiota olha o dedo\n",
      "Mas estrela já não há\n",
      "Explodiu, não existe mais\n",
      "O algoritmo venceu\n",
      "Sinal, síntese, sintomatismo\n",
      "Meu amor, veja bem\n",
      "Diga amém\n",
      "Durma bem\n",
      "\n"
     ]
    }
   ],
   "source": [
    "# Exibe a letra da música\n",
    "print(LETRA_MUSICA)"
   ],
   "metadata": {
    "collapsed": false
   }
  },
  {
   "cell_type": "code",
   "execution_count": 6,
   "outputs": [],
   "source": [
    "# Função para buscar padrão no texto\n",
    "def buscar_padrao_texto(padrao, texto):\n",
    "    return re.findall(padrao, texto)"
   ],
   "metadata": {
    "collapsed": false
   }
  },
  {
   "cell_type": "code",
   "execution_count": 7,
   "outputs": [],
   "source": [
    "# Função para buscar a quantidade de repetição do padrão no texto\n",
    "def contar_padrao_texto(padrao, texto):\n",
    "    return len(re.findall(padrao, texto))"
   ],
   "metadata": {
    "collapsed": false
   }
  },
  {
   "cell_type": "code",
   "execution_count": 8,
   "outputs": [
    {
     "name": "stdout",
     "output_type": "stream",
     "text": [
      "A palavra \"finito\" aparece 1 vez(es) na música.\n"
     ]
    }
   ],
   "source": [
    "# 1) Regex para contar a palavra \"finito\" na música.\n",
    "padrao_1 =  r'\\bfinito\\b'\n",
    "resultado_1 = contar_padrao_texto(padrao_1, LETRA_MUSICA)\n",
    "print(f'A palavra \"finito\" aparece {resultado_1} vez(es) na música.')"
   ],
   "metadata": {
    "collapsed": false
   }
  },
  {
   "cell_type": "code",
   "execution_count": 9,
   "outputs": [
    {
     "name": "stdout",
     "output_type": "stream",
     "text": [
      "A palavra \"infinito\" aparece 1 vez(es) na música.\n"
     ]
    }
   ],
   "source": [
    "# 2) Regex para contar a palavra \"infinito\" na música.\n",
    "padrao_2 = r'\\binfinito\\b'\n",
    "resultado_2 = contar_padrao_texto(padrao_2, LETRA_MUSICA)\n",
    "print(f'A palavra \"infinito\" aparece {resultado_2} vez(es) na música.')"
   ],
   "metadata": {
    "collapsed": false
   }
  },
  {
   "cell_type": "code",
   "execution_count": 10,
   "outputs": [
    {
     "name": "stdout",
     "output_type": "stream",
     "text": [
      "As palavras terminadas com \"finito\" aparecem 2 vez(es) na música.\n"
     ]
    }
   ],
   "source": [
    "# 3) Regex para contar as palavras terminadas com \"finito\" na música.\n",
    "#    Sendo que a palavra \"infinito\" também seria contada, já que termina com \"finito\".\n",
    "padrao_3 = r'\\w*finito\\b'\n",
    "resultado_3 = contar_padrao_texto(padrao_3, LETRA_MUSICA)\n",
    "print(f'As palavras terminadas com \"finito\" aparecem {resultado_3} vez(es) na música.')"
   ],
   "metadata": {
    "collapsed": false
   }
  },
  {
   "cell_type": "code",
   "execution_count": 11,
   "outputs": [
    {
     "name": "stdout",
     "output_type": "stream",
     "text": [
      "A palavra \"Há\" ou \"há\" aparece 6 vez(es) na música.\n"
     ]
    }
   ],
   "source": [
    "# 4) Regex para contar as palavras \"Há\" ou \"há\" na música.\n",
    "padrao_4 = r'\\w*(H|h)á\\b'\n",
    "resultado_4 = contar_padrao_texto(padrao_4, LETRA_MUSICA)\n",
    "print(f'A palavra \"Há\" ou \"há\" aparece {resultado_4} vez(es) na música.')"
   ],
   "metadata": {
    "collapsed": false
   }
  },
  {
   "cell_type": "code",
   "execution_count": 12,
   "outputs": [
    {
     "name": "stdout",
     "output_type": "stream",
     "text": [
      "Os pares de palavras que aparecem depois de \"Há\" ou \"há\" são: o finito, o infinito, o céu, o discurso, o erro.\n"
     ]
    }
   ],
   "source": [
    "# 5) Regex para encontrar os pares de palavras que aparecem depois de \"Há\" ou \"há\" na música.\n",
    "padrao_5 = r'(H|h)á (\\w+)\\s+(\\w+)'\n",
    "resultado_5 = buscar_padrao_texto(padrao_5, LETRA_MUSICA)\n",
    "resultado_5_a = []\n",
    "for p in resultado_5:\n",
    "    resultado_5_a.append(p[1]+' '+p[2])\n",
    "resultado_5 = ', '.join(resultado_5_a)\n",
    "print(f'Os pares de palavras que aparecem depois de \"Há\" ou \"há\" são: {resultado_5}.')"
   ],
   "metadata": {
    "collapsed": false
   }
  },
  {
   "cell_type": "code",
   "execution_count": 13,
   "outputs": [
    {
     "name": "stdout",
     "output_type": "stream",
     "text": [
      "As 18 palavras com algum acento são: Não, Há, é, está, caminhará, amém, então, tão, aí, indicará, vê, céu, sábio, já, à, há, síntese, não.\n"
     ]
    }
   ],
   "source": [
    "# 6) Regex para encontrar apenas as palavras com algum acento da língua portuguesa na música.\n",
    "padrao_6 = r'\\b[\\w]*(?:[áàâãéèêíïóôõöúü])[\\w]*\\b'\n",
    "resultado_6_a = set(buscar_padrao_texto(padrao_6, LETRA_MUSICA))\n",
    "resultado_6_b = len(resultado_6_a)\n",
    "resultado_6_a = ', '.join(resultado_6_a)\n",
    "print(f'As {resultado_6_b} palavras com algum acento são: {resultado_6_a}.')"
   ],
   "metadata": {
    "collapsed": false
   }
  },
  {
   "cell_type": "code",
   "execution_count": 14,
   "outputs": [
    {
     "name": "stdout",
     "output_type": "stream",
     "text": [
      "As palavras sucedidas por vírgula são: ver, lo, chance, Explodiu, Sinal, síntese, amor.\n"
     ]
    }
   ],
   "source": [
    "# 7) Regex para encontrar apenas as palavras que são sucedidas por vírgula na música.\n",
    "padrao_7 = r'\\b\\w+,(?=\\s)'\n",
    "resultado_7 = buscar_padrao_texto(padrao_7, LETRA_MUSICA)\n",
    "resultado_7 = ' '.join(resultado_7)[:-1]\n",
    "print(f'As palavras sucedidas por vírgula são: {resultado_7}.')"
   ],
   "metadata": {
    "collapsed": false
   }
  },
  {
   "cell_type": "markdown",
   "metadata": {},
   "source": [
    "---\n",
    "<a id='conclusion'></a>\n",
    "## 4. Conclusão\n",
    "\n",
    "O ChatGPT se mostrou extremamente útil para gerar regex e auxiliar no trabalho desenvolvido, mas também apresentou alguns erros, sendo necessários reformular pedidos e perguntas, além de sempre verificar os resultados. O ChatGPT não conseguiu fornecer a letra correta da música, mesmo que eu indicasse o nome da música, nome da banda, e sites com a letra."
   ]
  },
  {
   "cell_type": "markdown",
   "metadata": {},
   "source": [
    "---\n",
    "<a id='references'></a>\n",
    "## Referências\n",
    "\n",
    "ChatGPT: https://chat.openai.com/ , Acessado em 13/05/2023.\n",
    "\n",
    "Data Science Academy - Fundamentos de Linguagem Python Para Análise de Dados e Data Science (Com ChatGPT):\n",
    "https://www.datascienceacademy.com.br/course/fundamentos-de-linguagem-python-para-analise-de-dados-e-data-science , Acessado em 13/05/2023.\n",
    "\n",
    "Vagalume: https://www.vagalume.com.br/rosa-de-saron/algoritmo.html , Acessado em 13/05/2023."
   ]
  }
 ],
 "metadata": {
  "kernelspec": {
   "display_name": "Python 3 (ipykernel)",
   "language": "python",
   "name": "python3"
  },
  "language_info": {
   "codemirror_mode": {
    "name": "ipython",
    "version": 3
   },
   "file_extension": ".py",
   "mimetype": "text/x-python",
   "name": "python",
   "nbconvert_exporter": "python",
   "pygments_lexer": "ipython3",
   "version": "3.11.2"
  }
 },
 "nbformat": 4,
 "nbformat_minor": 1
}
